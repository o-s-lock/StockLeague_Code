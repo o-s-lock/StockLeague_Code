{
 "cells": [
  {
   "cell_type": "code",
   "execution_count": null,
   "id": "954204ee-d615-4860-b9a2-7f15fe959d1a",
   "metadata": {},
   "outputs": [],
   "source": [
    "# 複数年度のデータの切り分け\n",
    "\n",
    "N_2 = len(Data2)\n",
    "\n",
    "slice_l_1_2019 = []\n",
    "\n",
    "slice_l_1_2020 = []\n",
    "\n",
    "for i in range(0, N_2, 1):\n",
    "    slice_l_1_2020.append(l_1[i])\n",
    "    \n",
    "for i in range(1, N_2, 1):\n",
    "    slice_l_1_2020.append(l_1[i])\n",
    "    \n",
    "slice_l_2_2019 = []\n",
    "\n",
    "slice_l_2_2020 = []\n",
    "\n",
    "for i in range(0, N_2, 1):\n",
    "    slice_l_2_2020.append(l_2[i])\n",
    "    \n",
    "for i in range(1, N_2, 1):\n",
    "    slice_l_2_2020.append(l_2[i])\n",
    "    \n",
    "slice_l_3_2019 = []\n",
    "\n",
    "slice_l_3_2020 = []\n",
    "\n",
    "for i in range(0, N_2, 1):\n",
    "    slice_l_3_2020.append(l_3[i])\n",
    "    \n",
    "for i in range(1, N_2, 1):\n",
    "    slice_l_3_2020.append(l_3[i])"
   ]
  }
 ],
 "metadata": {
  "kernelspec": {
   "display_name": "Python 3",
   "language": "python",
   "name": "python3"
  },
  "language_info": {
   "codemirror_mode": {
    "name": "ipython",
    "version": 3
   },
   "file_extension": ".py",
   "mimetype": "text/x-python",
   "name": "python",
   "nbconvert_exporter": "python",
   "pygments_lexer": "ipython3",
   "version": "3.8.3"
  }
 },
 "nbformat": 4,
 "nbformat_minor": 5
}
